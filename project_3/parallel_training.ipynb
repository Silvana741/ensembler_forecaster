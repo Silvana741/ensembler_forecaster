{
 "cells": [
  {
   "cell_type": "code",
   "execution_count": 2,
   "id": "3dd3c2e5-334d-4685-bce4-253eb0b4d8f3",
   "metadata": {},
   "outputs": [],
   "source": [
    "import numpy as np\n",
    "import matplotlib.pyplot as plt\n",
    "import keras.datasets.mnist as mnist \n",
    "import jax\n",
    "import jax.numpy as jnp\n",
    "from jax import grad"
   ]
  },
  {
   "cell_type": "code",
   "execution_count": 3,
   "id": "56ae0fbd-a3d9-434f-badf-45e2f9f85340",
   "metadata": {},
   "outputs": [],
   "source": [
    "import ssl\n",
    "\n",
    "try:\n",
    "    _create_unverified_https_context = ssl._create_unverified_context\n",
    "except AttributeError:\n",
    "    # Legacy Python that doesn't verify HTTPS certificates by default\n",
    "    pass\n",
    "else:\n",
    "    # Handle target environment that doesn't support HTTPS verification\n",
    "    ssl._create_default_https_context = _create_unverified_https_context"
   ]
  },
  {
   "cell_type": "code",
   "execution_count": 4,
   "id": "c219011f-30ea-4bba-b447-a2968192bee6",
   "metadata": {},
   "outputs": [],
   "source": [
    "# Load the MNIST dataset\n",
    "(x_train, y_train), (x_test, y_test) = mnist.load_data()"
   ]
  },
  {
   "cell_type": "code",
   "execution_count": 5,
   "id": "428b848a-788d-4888-8987-a1aeddaa3722",
   "metadata": {},
   "outputs": [],
   "source": [
    "x = x_train[0]\n",
    "y_true = x.copy()\n"
   ]
  },
  {
   "cell_type": "code",
   "execution_count": 6,
   "id": "0272e928-a373-4e18-9aed-f9286d129eda",
   "metadata": {},
   "outputs": [],
   "source": [
    "# Add salt-and-pepper noise\n",
    "num_corrupted_pixels = 100\n",
    "for _ in range(num_corrupted_pixels):\n",
    "    i, j = np.random.randint(0, x.shape[0]), np.random.randint(0, x.shape[1])\n",
    "    x[i, j] = np.random.choice([0, 255])"
   ]
  },
  {
   "cell_type": "code",
   "execution_count": 7,
   "id": "5f241b84-34da-42df-b30c-9d975b27184a",
   "metadata": {},
   "outputs": [],
   "source": [
    "# Normalize images\n",
    "y_true = y_true.astype(np.float32) / 255.0\n",
    "x = x.astype(np.float32) / 255.0"
   ]
  },
  {
   "cell_type": "code",
   "execution_count": 8,
   "id": "164f8003-9124-4376-8c4e-bb31153e283f",
   "metadata": {},
   "outputs": [],
   "source": [
    "# Define convolution function using JAX\n",
    "def convolution_2d(x, kernel):\n",
    "    input_height, input_width = x.shape\n",
    "    kernel_height, kernel_width = kernel.shape\n",
    "    pad_height, pad_width = kernel_height // 2, kernel_width // 2\n",
    "\n",
    "    # Pad the input array by adding extra pixel\n",
    "    padded_x = jnp.pad(x, ((pad_height, pad_height), (pad_width, pad_width)), mode='constant')\n",
    "\n",
    "    # Initialize the output matrix\n",
    "    output_data = jnp.zeros_like(x)\n",
    "\n",
    "    # Perform the convolution operation\n",
    "    for i in range(input_height):\n",
    "        for j in range(input_width):\n",
    "            # Extract the region of interest\n",
    "            region = padded_x[i:i + kernel_height, j:j + kernel_width]\n",
    "            # Perform element-wise multiplication and summation\n",
    "            output_data = output_data.at[i, j].set(jnp.sum(region * kernel))\n",
    "            # Equivalent to : output_data[i, j] = jnp.sum(region * kernel)\n",
    "\n",
    "    return output_data\n"
   ]
  },
  {
   "cell_type": "code",
   "execution_count": 9,
   "id": "1c679a4b-651d-4fe2-a070-f4a984ad362c",
   "metadata": {},
   "outputs": [],
   "source": [
    "# Define loss function\n",
    "def loss_fn(kernel, x, y_true):\n",
    "    y_pred = convolution_2d(x, kernel)\n",
    "    return jnp.mean((y_pred - y_true) ** 2)  # Mean squared error\n"
   ]
  },
  {
   "cell_type": "code",
   "execution_count": 10,
   "id": "0115f961-9a37-4f4d-a760-950b2592056b",
   "metadata": {},
   "outputs": [],
   "source": [
    "# Initialize kernel\n",
    "kernel = jnp.array([[0.01, 0.0, 0.0],\n",
    "                    [-1.0, 0.0, 1.0],\n",
    "                    [0.0, 0.0, 0.0]])  # Random kernel for horizontal edge detection\n"
   ]
  },
  {
   "cell_type": "code",
   "execution_count": 11,
   "id": "6704772a-995f-4663-a672-9241db1c5a17",
   "metadata": {},
   "outputs": [],
   "source": [
    "# Gradient of the loss function w.r.t. the kernel\n",
    "loss_grad = grad(loss_fn)\n",
    "\n",
    "# Training loop\n",
    "learning_rate = 0.01\n",
    "num_iterations = 10"
   ]
  },
  {
   "cell_type": "code",
   "execution_count": 12,
   "id": "d05fde56-c1b0-405a-a70b-0d70a85c3103",
   "metadata": {},
   "outputs": [
    {
     "name": "stdout",
     "output_type": "stream",
     "text": [
      "Iteration 0, Loss: 0.2612\n"
     ]
    }
   ],
   "source": [
    "losses = []\n",
    "for i in range(num_iterations):\n",
    "    gradients = loss_grad(kernel, x, y_true)\n",
    "    kernel -= learning_rate * gradients  # Update kernel with gradient descent\n",
    "\n",
    "    # Compute and store the loss\n",
    "    current_loss = loss_fn(kernel, x, y_true)\n",
    "    losses.append(current_loss)\n",
    "\n",
    "    # Print loss every 10 iterations\n",
    "    if i % 10 == 0:\n",
    "        print(f\"Iteration {i}, Loss: {current_loss:.4f}\")\n"
   ]
  },
  {
   "cell_type": "code",
   "execution_count": 13,
   "id": "214d6767-6d8d-4176-8734-32b23ea99f34",
   "metadata": {},
   "outputs": [
    {
     "data": {
      "text/plain": [
       "<Figure size 800x600 with 0 Axes>"
      ]
     },
     "execution_count": 13,
     "metadata": {},
     "output_type": "execute_result"
    },
    {
     "data": {
      "text/plain": [
       "<Figure size 800x600 with 0 Axes>"
      ]
     },
     "metadata": {},
     "output_type": "display_data"
    }
   ],
   "source": [
    "# Visualize results\n",
    "plt.figure(figsize=(8, 6))\n"
   ]
  },
  {
   "cell_type": "code",
   "execution_count": 13,
   "id": "b4cd933d-d691-4fc6-ace2-5dc264337fe4",
   "metadata": {},
   "outputs": [
    {
     "data": {
      "text/plain": [
       "Text(0, 0.5, 'Loss')"
      ]
     },
     "execution_count": 13,
     "metadata": {},
     "output_type": "execute_result"
    },
    {
     "data": {
      "image/png": "[encoded data removed]",
      "text/plain": [
       "<Figure size 640x480 with 1 Axes>"
      ]
     },
     "metadata": {},
     "output_type": "display_data"
    }
   ],
   "source": [
    "# Plot loss over iterations\n",
    "plt.subplot(2, 2, 1)\n",
    "plt.plot(losses)\n",
    "plt.title(\"Loss Curve\")\n",
    "plt.xlabel(\"Iteration\")\n",
    "plt.ylabel(\"Loss\")"
   ]
  },
  {
   "cell_type": "code",
   "execution_count": 14,
   "id": "da7f85fc-53a2-4caa-9742-2cad4f4a612b",
   "metadata": {},
   "outputs": [
    {
     "data": {
      "text/plain": [
       "(-0.5, 27.5, 27.5, -0.5)"
      ]
     },
     "execution_count": 14,
     "metadata": {},
     "output_type": "execute_result"
    },
    {
     "data": {
      "image/png": "[encoded data removed]",
      "text/plain": [
       "<Figure size 640x480 with 1 Axes>"
      ]
     },
     "metadata": {},
     "output_type": "display_data"
    }
   ],
   "source": [
    "# Display original noisy image\n",
    "plt.subplot(2, 2, 2)\n",
    "plt.imshow(x, cmap='gray')\n",
    "plt.title(\"Noisy Image\")\n",
    "plt.axis('off')"
   ]
  },
  {
   "cell_type": "code",
   "execution_count": 15,
   "id": "95b2a513-c954-4f1c-9700-9305be732773",
   "metadata": {},
   "outputs": [
    {
     "data": {
      "text/plain": [
       "(-0.5, 27.5, 27.5, -0.5)"
      ]
     },
     "execution_count": 15,
     "metadata": {},
     "output_type": "execute_result"
    },
    {
     "data": {
      "image/png": "[encoded data removed]",
      "text/plain": [
       "<Figure size 640x480 with 1 Axes>"
      ]
     },
     "metadata": {},
     "output_type": "display_data"
    }
   ],
   "source": [
    "# Display target clean image\n",
    "plt.subplot(2, 2, 3)\n",
    "plt.imshow(y_true, cmap='gray')\n",
    "plt.title(\"Target (Clean Image)\")\n",
    "plt.axis('off')"
   ]
  },
  {
   "cell_type": "code",
   "execution_count": 16,
   "id": "257fdd80-b629-4672-b398-ac1c6b4569e2",
   "metadata": {},
   "outputs": [
    {
     "data": {
      "text/plain": [
       "(-0.5, 27.5, 27.5, -0.5)"
      ]
     },
     "execution_count": 16,
     "metadata": {},
     "output_type": "execute_result"
    },
    {
     "data": {
      "image/png": "[encoded data removed]",
      "text/plain": [
       "<Figure size 640x480 with 1 Axes>"
      ]
     },
     "metadata": {},
     "output_type": "display_data"
    }
   ],
   "source": [
    "# Display denoised image\n",
    "y_denoised = convolution_2d(x, kernel)\n",
    "plt.subplot(2, 2, 4)\n",
    "plt.imshow(y_denoised, cmap='gray')\n",
    "plt.title(\"Denoised Image\")\n",
    "plt.axis('off')"
   ]
  },
  {
   "cell_type": "code",
   "execution_count": 17,
   "id": "7ea45f44-42b3-4c56-9952-064b36c4f289",
   "metadata": {},
   "outputs": [
    {
     "data": {
      "text/plain": [
       "<Figure size 640x480 with 0 Axes>"
      ]
     },
     "metadata": {},
     "output_type": "display_data"
    }
   ],
   "source": [
    "plt.tight_layout()\n",
    "plt.show()"
   ]
  },
  {
   "cell_type": "markdown",
   "id": "a2e3203c-f71e-4815-b2c5-eaf42a9aedd5",
   "metadata": {},
   "source": [
    "### Parallel training"
   ]
  },
  {
   "cell_type": "code",
   "execution_count": null,
   "id": "250c7037-88e6-4c98-a2c8-4e961fab4d97",
   "metadata": {},
   "outputs": [],
   "source": [
    "from mpi4py import MPI"
   ]
  },
  {
   "cell_type": "code",
   "execution_count": null,
   "id": "283b5297-6cf2-45e9-98ba-a85385324cba",
   "metadata": {},
   "outputs": [],
   "source": [
    "comm = MPI.COMM_WORLD\n",
    "rank = com.Get_rank()\n",
    "size = comm.Get_size()"
   ]
  },
  {
   "cell_type": "code",
   "execution_count": null,
   "id": "f4cf7de9-8ddb-43fe-9e00-5b4787448ac3",
   "metadata": {},
   "outputs": [],
   "source": [
    "if rank == 0:\n",
    "    (x_train, y_train), (x_test, y_test) = mnist.load_data()\n",
    "    x=x_train[0]\n",
    "    y_true = x.copy()\n",
    "\n",
    "    # Add salt-and-pepper noise\n",
    "    num_corrupted_pixels = 100\n",
    "    for _ in range(num_corrupted_pixels):\n",
    "        i, j = np.random.randint(0, x.shape[0]), np.random.randint(0, x.shape[1])\n",
    "        x[i, j] = np.random.choice([0, 255])\n",
    "\n",
    "    # Normalize images\n",
    "    y_true = y_true.astype(np.float32) / 255.0\n",
    "    x = x.astype(np.float32) / 255.0\n",
    "\n",
    "else:\n",
    "    x = None \n",
    "    y_true = None \n",
    "    "
   ]
  },
  {
   "cell_type": "code",
   "execution_count": null,
   "id": "88144fba-0678-4bc7-a568-769a586eed3d",
   "metadata": {},
   "outputs": [],
   "source": [
    "x = comm.bcast(x, root=0)\n",
    "y_true = comm.bcast(y_true, root=0)"
   ]
  },
  {
   "cell_type": "code",
   "execution_count": null,
   "id": "fc9897e0-a270-469b-9207-3fae6bd29e38",
   "metadata": {},
   "outputs": [],
   "source": [
    "# Initialize kernel\n",
    "kernel = jnp.array([[0.01, 0.0, 0.0],\n",
    "                    [-1.0, 0.0, 1.0],\n",
    "                    [0.0, 0.0, 0.0]])  # Random kernel for horizontal edge detection\n"
   ]
  },
  {
   "cell_type": "code",
   "execution_count": null,
   "id": "70edcf09-eed4-4cb3-b5a8-b0b22f6b895d",
   "metadata": {},
   "outputs": [],
   "source": [
    "# Gradient of the loss function w.r.t. the kernel\n",
    "loss_grad = grad(loss_fn)\n",
    "\n",
    "# Training loop\n",
    "learning_rate = 0.01\n",
    "num_iterations = 10"
   ]
  },
  {
   "cell_type": "code",
   "execution_count": null,
   "id": "1a40811e-3dc0-4789-9aa8-c8338386abce",
   "metadata": {},
   "outputs": [],
   "source": [
    "# Divide iterations among processes\n",
    "iterations_per_process = num_iterations // size\n",
    "start_iteration = rank * iterations_per_process\n",
    "end_iteration = start_iteration + iterations_per_process"
   ]
  },
  {
   "cell_type": "code",
   "execution_count": null,
   "id": "3507de30-fd64-4784-8e14-528823a909c8",
   "metadata": {},
   "outputs": [],
   "source": [
    "local_losses = []\n",
    "for i in range(start_iteration, end_iteration):\n",
    "    gradients = loss_grad(kernel, x, y_true)\n",
    "    kernel -= learning_rate * gradients  # Update kernel with gradient descent\n",
    "\n",
    "    # Compute and store the loss\n",
    "    current_loss = loss_fn(kernel, x, y_true)\n",
    "    local_losses.append(current_loss)\n",
    "\n",
    "    # Print loss for each process\n",
    "    if i % 10 == 0:\n",
    "        print(f\"Process {rank}, Iteration {i}, Loss: {current_loss:.4f}\")\n"
   ]
  },
  {
   "cell_type": "code",
   "execution_count": null,
   "id": "f1eaa3f8-96ea-40fc-84ff-f950994e8acc",
   "metadata": {},
   "outputs": [],
   "source": [
    "# Gather losses from all processes\n",
    "all_losses = comm.gather(local_losses, root=0)\n"
   ]
  }
 ],
 "metadata": {
  "kernelspec": {
   "display_name": "parallel_mpi",
   "language": "python",
   "name": "parallel_mpi"
  },
  "language_info": {
   "codemirror_mode": {
    "name": "ipython",
    "version": 3
   },
   "file_extension": ".py",
   "mimetype": "text/x-python",
   "name": "python",
   "nbconvert_exporter": "python",
   "pygments_lexer": "ipython3",
   "version": "3.9.20"
  }
 },
 "nbformat": 4,
 "nbformat_minor": 5
}
